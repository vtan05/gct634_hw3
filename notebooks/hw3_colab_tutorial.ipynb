{
  "cells": [
    {
      "cell_type": "markdown",
      "metadata": {
        "id": "9TKapq8RWc2E"
      },
      "source": [
        "# Environment setting"
      ]
    },
    {
      "cell_type": "code",
      "execution_count": null,
      "metadata": {
        "colab": {
          "base_uri": "https://localhost:8080/"
        },
        "id": "LDNDQsHsRU9e",
        "outputId": "ed54ede5-4861-4bef-9370-a6ba6e39d84a"
      },
      "outputs": [],
      "source": [
        "! git clone https://github.com/juhannam/gct634-2022.git"
      ]
    },
    {
      "cell_type": "code",
      "execution_count": null,
      "metadata": {
        "colab": {
          "base_uri": "https://localhost:8080/"
        },
        "id": "lYylzJmARj_i",
        "outputId": "1f145d91-e815-4952-92b4-a90ab8c18af8"
      },
      "outputs": [],
      "source": [
        "%cd gct634-2022/hw3"
      ]
    },
    {
      "cell_type": "code",
      "execution_count": null,
      "metadata": {
        "colab": {
          "base_uri": "https://localhost:8080/"
        },
        "id": "my0XWbfjR7tC",
        "outputId": "2a809326-4900-41bf-f5a2-5f0f818b07cf"
      },
      "outputs": [],
      "source": [
        "! gdown --id 1wvN_ZWDiss1YCpC7GAPBMMlyrFYOB6NZ"
      ]
    },
    {
      "cell_type": "code",
      "execution_count": null,
      "metadata": {
        "id": "K2FjlYNfSZ4J"
      },
      "outputs": [],
      "source": [
        "! unzip -q maestro_small.zip"
      ]
    },
    {
      "cell_type": "code",
      "execution_count": null,
      "metadata": {
        "colab": {
          "base_uri": "https://localhost:8080/"
        },
        "id": "OwXbtT8qS9CU",
        "outputId": "287fd990-7b34-4e36-ebad-9ec48f2bf6e9"
      },
      "outputs": [],
      "source": [
        "! ls data"
      ]
    },
    {
      "cell_type": "code",
      "execution_count": null,
      "metadata": {
        "colab": {
          "base_uri": "https://localhost:8080/"
        },
        "id": "TkioM7MzTAda",
        "outputId": "c1ccad86-9a81-451f-b672-36130a6ff180"
      },
      "outputs": [],
      "source": [
        "import torch\n",
        "print(torch.__version__)"
      ]
    },
    {
      "cell_type": "markdown",
      "metadata": {
        "id": "T05ogW4GWivi"
      },
      "source": [
        "If torch version == 1.6.x, install torchaudio==0.6"
      ]
    },
    {
      "cell_type": "code",
      "execution_count": null,
      "metadata": {
        "colab": {
          "base_uri": "https://localhost:8080/"
        },
        "id": "1UddYMGCTbeE",
        "outputId": "befc7d52-8628-46bb-d92c-64fbd7c97d6e"
      },
      "outputs": [],
      "source": [
        "! pip install -r requirements.txt"
      ]
    },
    {
      "cell_type": "markdown",
      "metadata": {},
      "source": [
        "You may also need fluidsynth to play the transcription."
      ]
    },
    {
      "cell_type": "code",
      "execution_count": null,
      "metadata": {},
      "outputs": [],
      "source": [
        "! apt install fluidsynth; pip install pyFluidSynth "
      ]
    },
    {
      "cell_type": "markdown",
      "metadata": {
        "id": "4MFiDETNUU88"
      },
      "source": [
        "# Checkout dataset(same as notebooks.dataset.ipynb)"
      ]
    },
    {
      "cell_type": "code",
      "execution_count": null,
      "metadata": {
        "id": "6nvo5gRGUKw6"
      },
      "outputs": [],
      "source": [
        "import matplotlib.pyplot as plt\n",
        "%matplotlib inline\n",
        "\n",
        "from dataset import MAESTRO_small\n",
        "from constants import HOP_SIZE"
      ]
    },
    {
      "cell_type": "code",
      "execution_count": null,
      "metadata": {
        "colab": {
          "base_uri": "https://localhost:8080/"
        },
        "id": "cwIa2UbyUS8J",
        "outputId": "150b1a6b-dd92-4797-a97e-63b53b3a68e4"
      },
      "outputs": [],
      "source": [
        "example_dataset = MAESTRO_small(path='data', groups=['debug'], sequence_length=None, random_sample=True)"
      ]
    },
    {
      "cell_type": "code",
      "execution_count": null,
      "metadata": {
        "colab": {
          "base_uri": "https://localhost:8080/"
        },
        "id": "9mr0nmTNUhhy",
        "outputId": "e5eb9e86-aedc-4d97-979f-3588771c9515"
      },
      "outputs": [],
      "source": [
        "data = example_dataset[1]\n",
        "print(f'data: {data}')\n",
        "print(f'audio_shape: {data[\"audio\"].shape}')\n",
        "print(f'frame_roll_shape: {data[\"frame\"].shape}')\n",
        "print(f'onset_roll_shape: {data[\"onset\"].shape}')\n",
        "\n",
        "print(f'HOP_SIZE({HOP_SIZE}) x piano_roll length({data[\"frame\"].shape[0]}): {HOP_SIZE*data[\"frame\"].shape[0]}')"
      ]
    },
    {
      "cell_type": "code",
      "execution_count": null,
      "metadata": {
        "colab": {
          "base_uri": "https://localhost:8080/",
          "height": 881
        },
        "id": "zjnsY2uRUrdz",
        "outputId": "f135590a-ee41-41d6-a7e9-e99131127d14"
      },
      "outputs": [],
      "source": [
        "plt.figure(figsize=(10,15))\n",
        "plt.subplot(311)\n",
        "plt.plot(data['audio'].numpy()[:400*HOP_SIZE])\n",
        "plt.autoscale(enable=True, axis='x', tight=True)\n",
        "plt.subplot(312)\n",
        "plt.imshow(data['frame'].numpy()[:400].T, aspect='auto', origin='bottom')\n",
        "plt.subplot(313)\n",
        "plt.imshow(data['onset'].numpy()[:400].T, aspect='auto', origin='bottom')"
      ]
    },
    {
      "cell_type": "markdown",
      "metadata": {
        "id": "zjWOoLusUx3q"
      },
      "source": [
        "# Train 1k (Baseline)"
      ]
    },
    {
      "cell_type": "code",
      "execution_count": null,
      "metadata": {
        "colab": {
          "base_uri": "https://localhost:8080/"
        },
        "id": "0lhJlfYXUwAQ",
        "outputId": "9af6a6db-9616-4bd3-e021-8d3cfc785406"
      },
      "outputs": [],
      "source": [
        "! python train.py -i=1000 -vi=500 --save_midi"
      ]
    },
    {
      "cell_type": "markdown",
      "metadata": {
        "id": "LdGo6j9TmXrg"
      },
      "source": [
        "You will have your model checkpoints & decoded samples in runs/exp_{datetime} folder"
      ]
    }
  ],
  "metadata": {
    "accelerator": "GPU",
    "colab": {
      "collapsed_sections": [],
      "name": "hw3_tutorial.ipynb",
      "provenance": []
    },
    "kernelspec": {
      "display_name": "Python 3.8.13 ('main')",
      "language": "python",
      "name": "python3"
    },
    "language_info": {
      "codemirror_mode": {
        "name": "ipython",
        "version": 3
      },
      "file_extension": ".py",
      "mimetype": "text/x-python",
      "name": "python",
      "nbconvert_exporter": "python",
      "pygments_lexer": "ipython3",
      "version": "3.8.13"
    },
    "vscode": {
      "interpreter": {
        "hash": "ec7683314bf6f8cf49b488453331f4d3752754c8c3a73bab514a40cd4ee6ad89"
      }
    }
  },
  "nbformat": 4,
  "nbformat_minor": 0
}
