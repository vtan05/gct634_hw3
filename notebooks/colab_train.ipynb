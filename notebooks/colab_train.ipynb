{
 "cells": [
  {
   "cell_type": "code",
   "execution_count": null,
   "metadata": {
    "id": "wUqjpscm9y2L"
   },
   "outputs": [],
   "source": [
    "#! git clone https://github.com/vtan05/gct634_hw3.git"
   ]
  },
  {
   "cell_type": "code",
   "execution_count": null,
   "metadata": {
    "id": "fce_egLA_T7x"
   },
   "outputs": [],
   "source": [
    "#%cd gct634_hw3"
   ]
  },
  {
   "cell_type": "code",
   "execution_count": null,
   "metadata": {
    "id": "0qQuMyp6_KaL"
   },
   "outputs": [],
   "source": [
    "#! gdown --id 1wvN_ZWDiss1YCpC7GAPBMMlyrFYOB6NZ"
   ]
  },
  {
   "cell_type": "code",
   "execution_count": null,
   "metadata": {
    "id": "SBrqCeZk_NIb"
   },
   "outputs": [],
   "source": [
    "#! unzip -q maestro_small.zip"
   ]
  },
  {
   "cell_type": "code",
   "execution_count": null,
   "metadata": {
    "id": "FYuzcEh__j11"
   },
   "outputs": [],
   "source": [
    "#! apt install fluidsynth; pip install pyFluidSynth "
   ]
  },
  {
   "cell_type": "code",
   "execution_count": null,
   "metadata": {
    "id": "ZkzUu4_n_ies"
   },
   "outputs": [],
   "source": [
    "#! pip install -r requirements.txt"
   ]
  },
  {
   "cell_type": "code",
   "execution_count": null,
   "metadata": {
    "id": "IQuWl_2A_uId"
   },
   "outputs": [],
   "source": [
    "import torch\n",
    "import matplotlib.pyplot as plt\n",
    "%matplotlib inline\n",
    "\n",
    "from dataset import MAESTRO_small\n",
    "from constants import HOP_SIZE"
   ]
  },
  {
   "cell_type": "code",
   "execution_count": null,
   "metadata": {
    "id": "hD8XSPd5_vwQ"
   },
   "outputs": [],
   "source": [
    "#example_dataset = MAESTRO_small(path='data', groups=['debug'], sequence_length=None, random_sample=True)"
   ]
  },
  {
   "cell_type": "code",
   "execution_count": null,
   "metadata": {
    "id": "oeD0Fgrb_wN4"
   },
   "outputs": [],
   "source": [
    "#data = example_dataset[1]\n",
    "#print(f'data: {data}')\n",
    "#print(f'audio_shape: {data[\"audio\"].shape}')\n",
    "#print(f'frame_roll_shape: {data[\"frame\"].shape}')\n",
    "#print(f'onset_roll_shape: {data[\"onset\"].shape}')\n",
    "\n",
    "#print(f'HOP_SIZE({HOP_SIZE}) x piano_roll length({data[\"frame\"].shape[0]}): {HOP_SIZE*data[\"frame\"].shape[0]}')"
   ]
  },
  {
   "cell_type": "code",
   "execution_count": null,
   "metadata": {
    "id": "JMHPBby2_yTy"
   },
   "outputs": [],
   "source": [
    "#plt.figure(figsize=(10,15))\n",
    "#plt.subplot(311)\n",
    "#plt.plot(data['audio'].numpy()[:400*HOP_SIZE])\n",
    "#plt.autoscale(enable=True, axis='x', tight=True)\n",
    "#plt.subplot(312)\n",
    "#plt.imshow(data['frame'].numpy()[:400].T, aspect='auto', origin='bottom')\n",
    "#plt.subplot(313)\n",
    "#plt.imshow(data['onset'].numpy()[:400].T, aspect='auto', origin='bottom')"
   ]
  },
  {
   "cell_type": "code",
   "execution_count": null,
   "metadata": {
    "colab": {
     "base_uri": "https://localhost:8080/"
    },
    "id": "t4fKj2r35o6p",
    "outputId": "136bfc92-22f9-425f-a425-41c102c71173"
   },
   "outputs": [
    {
     "name": "stdout",
     "output_type": "stream",
     "text": [
      "Loading 1 group(s) of MAESTRO_small at data\n",
      "Loading group train: 100% 100/100 [00:34<00:00,  2.93it/s]\n",
      "Loading 1 group(s) of MAESTRO_small at data\n",
      "Loading group validation: 100% 20/20 [00:06<00:00,  3.00it/s]\n",
      " 10% 999/10000 [01:40<15:12,  9.87it/s, loss: 2.049e-01]/usr/local/lib/python3.7/dist-packages/mir_eval/transcription.py:167: UserWarning: Estimated notes are empty.\n",
      "  warnings.warn(\"Estimated notes are empty.\")\n",
      "\n",
      "metric/loss/frame_loss      : 0.1295\n",
      "metric/loss/onset_loss      : 0.0142\n",
      "metric/frame/frame_f1       : 0.1356\n",
      "metric/frame/onset_f1       : 0.0000\n",
      "metric/note/f1              : 0.0000\n",
      "metric/note-with-offsets/f1 : 0.0000\n",
      " 20% 1999/10000 [03:21<13:56,  9.57it/s, loss: 2.469e-01]\n",
      "metric/loss/frame_loss      : 0.1015\n",
      "metric/loss/onset_loss      : 0.0118\n",
      "metric/frame/frame_f1       : 0.3764\n",
      "metric/frame/onset_f1       : 0.0000\n",
      "metric/note/f1              : 0.0000\n",
      "metric/note-with-offsets/f1 : 0.0000\n",
      " 30% 2999/10000 [05:02<11:42,  9.97it/s, loss: 1.690e-01]\n",
      "metric/loss/frame_loss      : 0.1021\n",
      "metric/loss/onset_loss      : 0.0103\n",
      "metric/frame/frame_f1       : 0.4381\n",
      "metric/frame/onset_f1       : 0.0804\n",
      "metric/note/f1              : 0.0839\n",
      "metric/note-with-offsets/f1 : 0.0499\n",
      " 40% 3999/10000 [06:43<09:59, 10.02it/s, loss: 1.238e-01]\n",
      "metric/loss/frame_loss      : 0.0895\n",
      "metric/loss/onset_loss      : 0.0097\n",
      "metric/frame/frame_f1       : 0.4280\n",
      "metric/frame/onset_f1       : 0.1683\n",
      "metric/note/f1              : 0.1933\n",
      "metric/note-with-offsets/f1 : 0.0594\n",
      " 50% 4998/10000 [08:23<07:54, 10.54it/s, loss: 1.259e-01]\n",
      "metric/loss/frame_loss      : 0.0869\n",
      "metric/loss/onset_loss      : 0.0093\n",
      "metric/frame/frame_f1       : 0.5228\n",
      "metric/frame/onset_f1       : 0.2151\n",
      "metric/note/f1              : 0.2409\n",
      "metric/note-with-offsets/f1 : 0.0858\n",
      " 60% 5998/10000 [10:04<06:45,  9.86it/s, loss: 1.199e-01]\n",
      "metric/loss/frame_loss      : 0.0783\n",
      "metric/loss/onset_loss      : 0.0084\n",
      "metric/frame/frame_f1       : 0.5683\n",
      "metric/frame/onset_f1       : 0.2618\n",
      "metric/note/f1              : 0.3002\n",
      "metric/note-with-offsets/f1 : 0.1012\n",
      " 70% 6998/10000 [11:44<05:01,  9.95it/s, loss: 9.960e-02]\n",
      "metric/loss/frame_loss      : 0.0811\n",
      "metric/loss/onset_loss      : 0.0079\n",
      "metric/frame/frame_f1       : 0.5874\n",
      "metric/frame/onset_f1       : 0.3089\n",
      "metric/note/f1              : 0.3616\n",
      "metric/note-with-offsets/f1 : 0.1300\n",
      " 80% 7999/10000 [13:25<03:23,  9.86it/s, loss: 1.066e-01]\n",
      "metric/loss/frame_loss      : 0.0721\n",
      "metric/loss/onset_loss      : 0.0075\n",
      "metric/frame/frame_f1       : 0.5937\n",
      "metric/frame/onset_f1       : 0.3565\n",
      "metric/note/f1              : 0.4066\n",
      "metric/note-with-offsets/f1 : 0.1697\n",
      " 90% 8999/10000 [15:05<01:41,  9.85it/s, loss: 9.194e-02]\n",
      "metric/loss/frame_loss      : 0.0752\n",
      "metric/loss/onset_loss      : 0.0071\n",
      "metric/frame/frame_f1       : 0.6011\n",
      "metric/frame/onset_f1       : 0.3981\n",
      "metric/note/f1              : 0.4490\n",
      "metric/note-with-offsets/f1 : 0.1887\n",
      "100% 9998/10000 [16:45<00:00, 10.10it/s, loss: 1.387e-01]\n",
      "metric/loss/frame_loss      : 0.0741\n",
      "metric/loss/onset_loss      : 0.0068\n",
      "metric/frame/frame_f1       : 0.6220\n",
      "metric/frame/onset_f1       : 0.4271\n",
      "metric/note/f1              : 0.4849\n",
      "metric/note-with-offsets/f1 : 0.1957\n",
      "100% 10000/10000 [16:45<00:00,  9.94it/s, loss: 1.387e-01]\n",
      "Loading 1 group(s) of MAESTRO_small at data\n",
      "Loading group test: 100% 50/50 [00:12<00:00,  4.00it/s]\n",
      "\n",
      "metric/loss/frame_loss : 0.05678565800189972\n",
      "metric/loss/onset_loss : 0.00693211006000638\n",
      "metric/frame/frame_f1 : 0.6153423382468322\n",
      "metric/frame/onset_f1 : 0.4897196959719875\n",
      "metric/note/f1 : 0.6013493559020343\n",
      "metric/note-with-offsets/f1 : 0.2480450984060953\n",
      "                            loss frame_loss                : 0.057 +- 0.031\n",
      "                            loss onset_loss                : 0.007 +- 0.006\n",
      "                           frame frame_precision           : 0.657 +- 0.218\n",
      "                           frame frame_recall              : 0.620 +- 0.192\n",
      "                           frame frame_f1                  : 0.615 +- 0.180\n",
      "                           frame onset_precision           : 0.713 +- 0.121\n",
      "                           frame onset_recall              : 0.415 +- 0.209\n",
      "                           frame onset_f1                  : 0.490 +- 0.169\n",
      "                            note precision                 : 0.958 +- 0.062\n",
      "                            note recall                    : 0.472 +- 0.223\n",
      "                            note f1                        : 0.601 +- 0.204\n",
      "                            note overlap                   : 0.460 +- 0.168\n",
      "               note-with-offsets precision                 : 0.378 +- 0.187\n",
      "               note-with-offsets recall                    : 0.196 +- 0.143\n",
      "               note-with-offsets f1                        : 0.248 +- 0.160\n",
      "               note-with-offsets overlap                   : 0.790 +- 0.223\n"
     ]
    }
   ],
   "source": [
    "! python train.py --model_type=rnn"
   ]
  },
  {
   "cell_type": "code",
   "execution_count": null,
   "metadata": {
    "colab": {
     "background_save": true,
     "base_uri": "https://localhost:8080/"
    },
    "id": "x2znLyvJePRm",
    "outputId": "7c475261-4e9a-4b01-dcd2-62f307df1968"
   },
   "outputs": [
    {
     "name": "stdout",
     "output_type": "stream",
     "text": [
      "Loading 1 group(s) of MAESTRO_small at data\n",
      "Loading group train: 100% 100/100 [00:33<00:00,  2.96it/s]\n",
      "Loading 1 group(s) of MAESTRO_small at data\n",
      "Loading group validation: 100% 20/20 [00:06<00:00,  3.02it/s]\n",
      " 10% 999/10000 [04:50<46:53,  3.20it/s, loss: 2.496e-01]/usr/local/lib/python3.7/dist-packages/mir_eval/transcription.py:167: UserWarning: Estimated notes are empty.\n",
      "  warnings.warn(\"Estimated notes are empty.\")\n",
      "\n",
      "metric/loss/frame_loss      : 0.1483\n",
      "metric/loss/onset_loss      : 0.0153\n",
      "metric/frame/frame_f1       : 0.0000\n",
      "metric/frame/onset_f1       : 0.0000\n",
      "metric/note/f1              : 0.0000\n",
      "metric/note-with-offsets/f1 : 0.0000\n",
      " 20% 1999/10000 [09:47<42:14,  3.16it/s, loss: 2.323e-01]\n",
      "metric/loss/frame_loss      : 0.1399\n",
      "metric/loss/onset_loss      : 0.0154\n",
      "metric/frame/frame_f1       : 0.0129\n",
      "metric/frame/onset_f1       : 0.0000\n",
      "metric/note/f1              : 0.0000\n",
      "metric/note-with-offsets/f1 : 0.0000\n",
      " 30% 2999/10000 [14:45<35:19,  3.30it/s, loss: 1.509e-01]\n",
      "metric/loss/frame_loss      : 0.1226\n",
      "metric/loss/onset_loss      : 0.0123\n",
      "metric/frame/frame_f1       : 0.0690\n",
      "metric/frame/onset_f1       : 0.0000\n",
      "metric/note/f1              : 0.0000\n",
      "metric/note-with-offsets/f1 : 0.0000\n",
      " 40% 3999/10000 [19:43<29:01,  3.45it/s, loss: 1.729e-01]\n",
      "metric/loss/frame_loss      : 0.0993\n",
      "metric/loss/onset_loss      : 0.0096\n",
      "metric/frame/frame_f1       : 0.3532\n",
      "metric/frame/onset_f1       : 0.0000\n",
      "metric/note/f1              : 0.0000\n",
      "metric/note-with-offsets/f1 : 0.0000\n",
      " 50% 4999/10000 [24:41<23:33,  3.54it/s, loss: 1.302e-01]\n",
      "metric/loss/frame_loss      : 0.0931\n",
      "metric/loss/onset_loss      : 0.0068\n",
      "metric/frame/frame_f1       : 0.4552\n",
      "metric/frame/onset_f1       : 0.3268\n",
      "metric/note/f1              : 0.3705\n",
      "metric/note-with-offsets/f1 : 0.1548\n",
      " 60% 5999/10000 [29:39<17:16,  3.86it/s, loss: 1.381e-01]\n",
      "metric/loss/frame_loss      : 0.0838\n",
      "metric/loss/onset_loss      : 0.0054\n",
      "metric/frame/frame_f1       : 0.5096\n",
      "metric/frame/onset_f1       : 0.5364\n",
      "metric/note/f1              : 0.6049\n",
      "metric/note-with-offsets/f1 : 0.2125\n",
      " 70% 6999/10000 [34:37<16:10,  3.09it/s, loss: 1.166e-01]\n",
      "metric/loss/frame_loss      : 0.0823\n",
      "metric/loss/onset_loss      : 0.0048\n",
      "metric/frame/frame_f1       : 0.5179\n",
      "metric/frame/onset_f1       : 0.6176\n",
      "metric/note/f1              : 0.7047\n",
      "metric/note-with-offsets/f1 : 0.2256\n",
      " 80% 7999/10000 [39:36<10:30,  3.18it/s, loss: 9.956e-02]\n",
      "metric/loss/frame_loss      : 0.0772\n",
      "metric/loss/onset_loss      : 0.0043\n",
      "metric/frame/frame_f1       : 0.5574\n",
      "metric/frame/onset_f1       : 0.6816\n",
      "metric/note/f1              : 0.7706\n",
      "metric/note-with-offsets/f1 : 0.2690\n",
      " 90% 8999/10000 [44:33<05:10,  3.23it/s, loss: 1.112e-01]\n",
      "metric/loss/frame_loss      : 0.0773\n",
      "metric/loss/onset_loss      : 0.0041\n",
      "metric/frame/frame_f1       : 0.5967\n",
      "metric/frame/onset_f1       : 0.6966\n",
      "metric/note/f1              : 0.7887\n",
      "metric/note-with-offsets/f1 : 0.3506\n",
      "100% 9999/10000 [49:31<00:00,  3.29it/s, loss: 9.580e-02]\n",
      "metric/loss/frame_loss      : 0.0704\n",
      "metric/loss/onset_loss      : 0.0039\n",
      "metric/frame/frame_f1       : 0.6216\n",
      "metric/frame/onset_f1       : 0.7190\n",
      "metric/note/f1              : 0.8120\n",
      "metric/note-with-offsets/f1 : 0.4145\n",
      "100% 10000/10000 [49:31<00:00,  3.37it/s, loss: 9.580e-02]\n",
      "Loading 1 group(s) of MAESTRO_small at data\n",
      "Loading group test: 100% 50/50 [00:12<00:00,  4.01it/s]\n",
      "\n",
      "metric/loss/frame_loss : 0.051541998982429504\n",
      "metric/loss/onset_loss : 0.004506082274019718\n",
      "metric/frame/frame_f1 : 0.6422051122207405\n",
      "metric/frame/onset_f1 : 0.7024209806266639\n",
      "metric/note/f1 : 0.8139064487246124\n",
      "metric/note-with-offsets/f1 : 0.4503697870671733\n",
      "                            loss frame_loss                : 0.052 +- 0.031\n",
      "                            loss onset_loss                : 0.005 +- 0.005\n",
      "                           frame frame_precision           : 0.673 +- 0.185\n",
      "                           frame frame_recall              : 0.642 +- 0.186\n",
      "                           frame frame_f1                  : 0.642 +- 0.166\n",
      "                           frame onset_precision           : 0.811 +- 0.148\n",
      "                           frame onset_recall              : 0.640 +- 0.209\n",
      "                           frame onset_f1                  : 0.702 +- 0.182\n",
      "                            note precision                 : 0.982 +- 0.042\n",
      "                            note recall                    : 0.716 +- 0.192\n",
      "                            note f1                        : 0.814 +- 0.151\n",
      "                            note overlap                   : 0.587 +- 0.136\n",
      "               note-with-offsets precision                 : 0.542 +- 0.190\n",
      "               note-with-offsets recall                    : 0.397 +- 0.190\n",
      "               note-with-offsets f1                        : 0.450 +- 0.188\n",
      "               note-with-offsets overlap                   : 0.872 +- 0.104\n"
     ]
    }
   ],
   "source": [
    "! python train.py --model_type=crnn"
   ]
  },
  {
   "cell_type": "code",
   "execution_count": 24,
   "metadata": {
    "colab": {
     "base_uri": "https://localhost:8080/"
    },
    "id": "VXwu0IbC3_fi",
    "outputId": "8ab5a353-bd0c-49f5-a3e8-275b502ffa88"
   },
   "outputs": [
    {
     "name": "stdout",
     "output_type": "stream",
     "text": [
      "Loading 1 group(s) of MAESTRO_small at data\n",
      "Loading group train: 100% 100/100 [00:33<00:00,  2.97it/s]\n",
      "Loading 1 group(s) of MAESTRO_small at data\n",
      "Loading group validation: 100% 20/20 [00:06<00:00,  3.04it/s]\n",
      " 10% 999/10000 [04:52<47:04,  3.19it/s, loss: 2.091e-01]/usr/local/lib/python3.7/dist-packages/mir_eval/transcription.py:167: UserWarning: Estimated notes are empty.\n",
      "  warnings.warn(\"Estimated notes are empty.\")\n",
      "\n",
      "metric/loss/frame_loss      : 0.1467\n",
      "metric/loss/onset_loss      : 0.0153\n",
      "metric/frame/frame_f1       : 0.0000\n",
      "metric/frame/onset_f1       : 0.0000\n",
      "metric/note/f1              : 0.0000\n",
      "metric/note-with-offsets/f1 : 0.0000\n",
      " 20% 1999/10000 [09:50<41:29,  3.21it/s, loss: 1.744e-01]\n",
      "metric/loss/frame_loss      : 0.1325\n",
      "metric/loss/onset_loss      : 0.0123\n",
      "metric/frame/frame_f1       : 0.0017\n",
      "metric/frame/onset_f1       : 0.0000\n",
      "metric/note/f1              : 0.0000\n",
      "metric/note-with-offsets/f1 : 0.0000\n",
      " 30% 2999/10000 [14:48<35:12,  3.31it/s, loss: 1.663e-01]\n",
      "metric/loss/frame_loss      : 0.1205\n",
      "metric/loss/onset_loss      : 0.0105\n",
      "metric/frame/frame_f1       : 0.0626\n",
      "metric/frame/onset_f1       : 0.0000\n",
      "metric/note/f1              : 0.0000\n",
      "metric/note-with-offsets/f1 : 0.0000\n",
      " 40% 3999/10000 [19:45<29:20,  3.41it/s, loss: 1.451e-01]\n",
      "metric/loss/frame_loss      : 0.1101\n",
      "metric/loss/onset_loss      : 0.0070\n",
      "metric/frame/frame_f1       : 0.1930\n",
      "metric/frame/onset_f1       : 0.3312\n",
      "metric/note/f1              : 0.3768\n",
      "metric/note-with-offsets/f1 : 0.0619\n",
      " 50% 4999/10000 [24:43<23:26,  3.56it/s, loss: 1.490e-01]\n",
      "metric/loss/frame_loss      : 0.0966\n",
      "metric/loss/onset_loss      : 0.0054\n",
      "metric/frame/frame_f1       : 0.4034\n",
      "metric/frame/onset_f1       : 0.5079\n",
      "metric/note/f1              : 0.5652\n",
      "metric/note-with-offsets/f1 : 0.1354\n",
      " 60% 5999/10000 [29:41<17:20,  3.85it/s, loss: 1.674e-01]\n",
      "metric/loss/frame_loss      : 0.0943\n",
      "metric/loss/onset_loss      : 0.0047\n",
      "metric/frame/frame_f1       : 0.4498\n",
      "metric/frame/onset_f1       : 0.5876\n",
      "metric/note/f1              : 0.6688\n",
      "metric/note-with-offsets/f1 : 0.1782\n",
      " 70% 6999/10000 [34:40<16:10,  3.09it/s, loss: 1.327e-01]\n",
      "metric/loss/frame_loss      : 0.0910\n",
      "metric/loss/onset_loss      : 0.0043\n",
      "metric/frame/frame_f1       : 0.4778\n",
      "metric/frame/onset_f1       : 0.6399\n",
      "metric/note/f1              : 0.7514\n",
      "metric/note-with-offsets/f1 : 0.2183\n",
      " 80% 7999/10000 [39:38<10:33,  3.16it/s, loss: 1.384e-01]\n",
      "metric/loss/frame_loss      : 0.0882\n",
      "metric/loss/onset_loss      : 0.0041\n",
      "metric/frame/frame_f1       : 0.4568\n",
      "metric/frame/onset_f1       : 0.6868\n",
      "metric/note/f1              : 0.7965\n",
      "metric/note-with-offsets/f1 : 0.2004\n",
      " 90% 8999/10000 [44:36<05:07,  3.26it/s, loss: 1.040e-01]\n",
      "metric/loss/frame_loss      : 0.0903\n",
      "metric/loss/onset_loss      : 0.0037\n",
      "metric/frame/frame_f1       : 0.4699\n",
      "metric/frame/onset_f1       : 0.7136\n",
      "metric/note/f1              : 0.8295\n",
      "metric/note-with-offsets/f1 : 0.2399\n",
      "100% 9999/10000 [49:33<00:00,  3.28it/s, loss: 1.298e-01]\n",
      "metric/loss/frame_loss      : 0.0980\n",
      "metric/loss/onset_loss      : 0.0044\n",
      "metric/frame/frame_f1       : 0.4921\n",
      "metric/frame/onset_f1       : 0.6659\n",
      "metric/note/f1              : 0.7645\n",
      "metric/note-with-offsets/f1 : 0.2294\n",
      "100% 10000/10000 [49:34<00:00,  3.36it/s, loss: 1.298e-01]\n",
      "Loading 1 group(s) of MAESTRO_small at data\n",
      "Loading group test: 100% 50/50 [00:12<00:00,  3.98it/s]\n",
      "\n",
      "metric/loss/frame_loss : 0.07213745266199112\n",
      "metric/loss/onset_loss : 0.005192718002945185\n",
      "metric/frame/frame_f1 : 0.5233755942670161\n",
      "metric/frame/onset_f1 : 0.6690392106958428\n",
      "metric/note/f1 : 0.7949153986374697\n",
      "metric/note-with-offsets/f1 : 0.34357357782267156\n",
      "                            loss frame_loss                : 0.072 +- 0.045\n",
      "                            loss onset_loss                : 0.005 +- 0.005\n",
      "                           frame frame_precision           : 0.532 +- 0.184\n",
      "                           frame frame_recall              : 0.552 +- 0.215\n",
      "                           frame frame_f1                  : 0.523 +- 0.183\n",
      "                           frame onset_precision           : 0.772 +- 0.159\n",
      "                           frame onset_recall              : 0.616 +- 0.211\n",
      "                           frame onset_f1                  : 0.669 +- 0.187\n",
      "                            note precision                 : 0.972 +- 0.063\n",
      "                            note recall                    : 0.698 +- 0.198\n",
      "                            note f1                        : 0.795 +- 0.162\n",
      "                            note overlap                   : 0.477 +- 0.178\n",
      "               note-with-offsets precision                 : 0.422 +- 0.246\n",
      "               note-with-offsets recall                    : 0.304 +- 0.216\n",
      "               note-with-offsets f1                        : 0.344 +- 0.222\n",
      "               note-with-offsets overlap                   : 0.820 +- 0.213\n"
     ]
    }
   ],
   "source": [
    "! python train.py --model_type=ONF "
   ]
  },
  {
   "cell_type": "code",
   "execution_count": 25,
   "metadata": {
    "colab": {
     "base_uri": "https://localhost:8080/"
    },
    "id": "j5UBSssWH7v9",
    "outputId": "3939d858-0d13-4e24-ff00-94bd91a890f7"
   },
   "outputs": [
    {
     "name": "stdout",
     "output_type": "stream",
     "text": [
      "Loading 1 group(s) of MAESTRO_small at data\n",
      "Loading group train: 100% 100/100 [00:33<00:00,  2.95it/s]\n",
      "Loading 1 group(s) of MAESTRO_small at data\n",
      "Loading group validation: 100% 20/20 [00:06<00:00,  3.04it/s]\n",
      " 10% 999/10000 [04:14<40:42,  3.68it/s, loss: 1.193e-01]\n",
      "metric/loss/frame_loss      : 0.0647\n",
      "metric/loss/onset_loss      : 0.0056\n",
      "metric/frame/frame_f1       : 0.6364\n",
      "metric/frame/onset_f1       : 0.6308\n",
      "metric/note/f1              : 0.7377\n",
      "metric/note-with-offsets/f1 : 0.2578\n",
      " 20% 1999/10000 [08:34<36:07,  3.69it/s, loss: 1.176e-01]\n",
      "metric/loss/frame_loss      : 0.0710\n",
      "metric/loss/onset_loss      : 0.0043\n",
      "metric/frame/frame_f1       : 0.7001\n",
      "metric/frame/onset_f1       : 0.6527\n",
      "metric/note/f1              : 0.7523\n",
      "metric/note-with-offsets/f1 : 0.4050\n",
      " 30% 2999/10000 [12:53<30:29,  3.83it/s, loss: 1.428e-01]\n",
      "metric/loss/frame_loss      : 0.0643\n",
      "metric/loss/onset_loss      : 0.0039\n",
      "metric/frame/frame_f1       : 0.7111\n",
      "metric/frame/onset_f1       : 0.6933\n",
      "metric/note/f1              : 0.7944\n",
      "metric/note-with-offsets/f1 : 0.3952\n",
      " 40% 3999/10000 [17:13<24:54,  4.01it/s, loss: 9.438e-02]\n",
      "metric/loss/frame_loss      : 0.0601\n",
      "metric/loss/onset_loss      : 0.0039\n",
      "metric/frame/frame_f1       : 0.7017\n",
      "metric/frame/onset_f1       : 0.7030\n",
      "metric/note/f1              : 0.8122\n",
      "metric/note-with-offsets/f1 : 0.3669\n",
      " 50% 4999/10000 [21:32<19:39,  4.24it/s, loss: 9.043e-02]\n",
      "metric/loss/frame_loss      : 0.0583\n",
      "metric/loss/onset_loss      : 0.0038\n",
      "metric/frame/frame_f1       : 0.6545\n",
      "metric/frame/onset_f1       : 0.7128\n",
      "metric/note/f1              : 0.8191\n",
      "metric/note-with-offsets/f1 : 0.3084\n",
      " 60% 5998/10000 [25:51<18:20,  3.64it/s, loss: 1.038e-01]\n",
      "metric/loss/frame_loss      : 0.0567\n",
      "metric/loss/onset_loss      : 0.0036\n",
      "metric/frame/frame_f1       : 0.7030\n",
      "metric/frame/onset_f1       : 0.7249\n",
      "metric/note/f1              : 0.8268\n",
      "metric/note-with-offsets/f1 : 0.4034\n",
      " 70% 6999/10000 [30:10<13:54,  3.60it/s, loss: 6.953e-02]\n",
      "metric/loss/frame_loss      : 0.0594\n",
      "metric/loss/onset_loss      : 0.0036\n",
      "metric/frame/frame_f1       : 0.7233\n",
      "metric/frame/onset_f1       : 0.7208\n",
      "metric/note/f1              : 0.8238\n",
      "metric/note-with-offsets/f1 : 0.4351\n",
      " 80% 7999/10000 [34:29<09:02,  3.69it/s, loss: 1.011e-01]\n",
      "metric/loss/frame_loss      : 0.0544\n",
      "metric/loss/onset_loss      : 0.0036\n",
      "metric/frame/frame_f1       : 0.7382\n",
      "metric/frame/onset_f1       : 0.7225\n",
      "metric/note/f1              : 0.8262\n",
      "metric/note-with-offsets/f1 : 0.4068\n",
      " 90% 8999/10000 [38:47<04:25,  3.77it/s, loss: 1.053e-01]\n",
      "metric/loss/frame_loss      : 0.0556\n",
      "metric/loss/onset_loss      : 0.0037\n",
      "metric/frame/frame_f1       : 0.7306\n",
      "metric/frame/onset_f1       : 0.7173\n",
      "metric/note/f1              : 0.8233\n",
      "metric/note-with-offsets/f1 : 0.4454\n",
      "100% 9999/10000 [43:06<00:00,  3.93it/s, loss: 7.481e-02]\n",
      "metric/loss/frame_loss      : 0.0534\n",
      "metric/loss/onset_loss      : 0.0036\n",
      "metric/frame/frame_f1       : 0.7525\n",
      "metric/frame/onset_f1       : 0.7213\n",
      "metric/note/f1              : 0.8377\n",
      "metric/note-with-offsets/f1 : 0.4471\n",
      "100% 10000/10000 [43:06<00:00,  3.87it/s, loss: 7.481e-02]\n",
      "Loading 1 group(s) of MAESTRO_small at data\n",
      "Loading group test: 100% 50/50 [00:12<00:00,  3.94it/s]\n",
      "\n",
      "metric/loss/frame_loss : 0.04539112746715546\n",
      "metric/loss/onset_loss : 0.004189023282378912\n",
      "metric/frame/frame_f1 : 0.7454406179123033\n",
      "metric/frame/onset_f1 : 0.7501679697739914\n",
      "metric/note/f1 : 0.8910104588493213\n",
      "metric/note-with-offsets/f1 : 0.5087577396014054\n",
      "                            loss frame_loss                : 0.045 +- 0.025\n",
      "                            loss onset_loss                : 0.004 +- 0.004\n",
      "                           frame frame_precision           : 0.755 +- 0.174\n",
      "                           frame frame_recall              : 0.768 +- 0.119\n",
      "                           frame frame_f1                  : 0.745 +- 0.121\n",
      "                           frame onset_precision           : 0.789 +- 0.124\n",
      "                           frame onset_recall              : 0.731 +- 0.166\n",
      "                           frame onset_f1                  : 0.750 +- 0.134\n",
      "                            note precision                 : 0.990 +- 0.023\n",
      "                            note recall                    : 0.823 +- 0.150\n",
      "                            note f1                        : 0.891 +- 0.101\n",
      "                            note overlap                   : 0.631 +- 0.110\n",
      "               note-with-offsets precision                 : 0.563 +- 0.180\n",
      "               note-with-offsets recall                    : 0.471 +- 0.184\n",
      "               note-with-offsets f1                        : 0.509 +- 0.180\n",
      "               note-with-offsets overlap                   : 0.880 +- 0.107\n"
     ]
    }
   ],
   "source": [
    "! python train.py"
   ]
  },
  {
   "cell_type": "code",
   "execution_count": 27,
   "metadata": {
    "colab": {
     "base_uri": "https://localhost:8080/",
     "height": 260
    },
    "id": "U07k4sWaH_JX",
    "outputId": "6bc71501-f12d-4bed-efa9-c40755ca0c1d"
   },
   "outputs": [
    {
     "name": "stdout",
     "output_type": "stream",
     "text": [
      "updating: content/gct634_hw3/runs/ (stored 0%)\n",
      "updating: content/gct634_hw3/runs/.ipynb_checkpoints/ (stored 0%)\n",
      "  adding: content/gct634_hw3/runs/exp_221108-094659/ (stored 0%)\n",
      "  adding: content/gct634_hw3/runs/exp_221108-094659/results.txt (deflated 80%)\n",
      "  adding: content/gct634_hw3/runs/exp_221108-094659/model-10000.pt (deflated 14%)\n",
      "  adding: content/gct634_hw3/runs/exp_221108-105515/ (stored 0%)\n",
      "  adding: content/gct634_hw3/runs/exp_221108-105515/results.txt (deflated 81%)\n",
      "  adding: content/gct634_hw3/runs/exp_221108-105515/model-10000.pt (deflated 9%)\n",
      "  adding: content/gct634_hw3/runs/exp_221108-100444/ (stored 0%)\n",
      "  adding: content/gct634_hw3/runs/exp_221108-100444/results.txt (deflated 81%)\n",
      "  adding: content/gct634_hw3/runs/exp_221108-100444/model-10000.pt (deflated 10%)\n",
      "  adding: content/gct634_hw3/runs/exp_221108-114549/ (stored 0%)\n",
      "  adding: content/gct634_hw3/runs/exp_221108-114549/results.txt (deflated 81%)\n",
      "  adding: content/gct634_hw3/runs/exp_221108-114549/model-10000.pt (deflated 10%)\n"
     ]
    },
    {
     "data": {
      "application/javascript": [
       "\n",
       "    async function download(id, filename, size) {\n",
       "      if (!google.colab.kernel.accessAllowed) {\n",
       "        return;\n",
       "      }\n",
       "      const div = document.createElement('div');\n",
       "      const label = document.createElement('label');\n",
       "      label.textContent = `Downloading \"${filename}\": `;\n",
       "      div.appendChild(label);\n",
       "      const progress = document.createElement('progress');\n",
       "      progress.max = size;\n",
       "      div.appendChild(progress);\n",
       "      document.body.appendChild(div);\n",
       "\n",
       "      const buffers = [];\n",
       "      let downloaded = 0;\n",
       "\n",
       "      const channel = await google.colab.kernel.comms.open(id);\n",
       "      // Send a message to notify the kernel that we're ready.\n",
       "      channel.send({})\n",
       "\n",
       "      for await (const message of channel.messages) {\n",
       "        // Send a message to notify the kernel that we're ready.\n",
       "        channel.send({})\n",
       "        if (message.buffers) {\n",
       "          for (const buffer of message.buffers) {\n",
       "            buffers.push(buffer);\n",
       "            downloaded += buffer.byteLength;\n",
       "            progress.value = downloaded;\n",
       "          }\n",
       "        }\n",
       "      }\n",
       "      const blob = new Blob(buffers, {type: 'application/binary'});\n",
       "      const a = document.createElement('a');\n",
       "      a.href = window.URL.createObjectURL(blob);\n",
       "      a.download = filename;\n",
       "      div.appendChild(a);\n",
       "      a.click();\n",
       "      div.remove();\n",
       "    }\n",
       "  "
      ],
      "text/plain": [
       "<IPython.core.display.Javascript object>"
      ]
     },
     "metadata": {},
     "output_type": "display_data"
    },
    {
     "data": {
      "application/javascript": [
       "download(\"download_69081931-0d96-4d50-99dd-7db961ba5180\", \"runs.zip\", 169166421)"
      ],
      "text/plain": [
       "<IPython.core.display.Javascript object>"
      ]
     },
     "metadata": {},
     "output_type": "display_data"
    }
   ],
   "source": [
    "from google.colab import files\n",
    "!zip -r /content/gct634_hw3/runs.zip /content/gct634_hw3/runs\n",
    "files.download('/content/gct634_hw3/runs.zip')"
   ]
  }
 ],
 "metadata": {
  "accelerator": "GPU",
  "colab": {
   "collapsed_sections": [],
   "provenance": []
  },
  "gpuClass": "standard",
  "kernelspec": {
   "display_name": "Python 3 (ipykernel)",
   "language": "python",
   "name": "python3"
  },
  "language_info": {
   "codemirror_mode": {
    "name": "ipython",
    "version": 3
   },
   "file_extension": ".py",
   "mimetype": "text/x-python",
   "name": "python",
   "nbconvert_exporter": "python",
   "pygments_lexer": "ipython3",
   "version": "3.7.13"
  }
 },
 "nbformat": 4,
 "nbformat_minor": 1
}
